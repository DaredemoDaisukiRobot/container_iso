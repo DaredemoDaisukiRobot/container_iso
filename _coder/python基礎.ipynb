{
 "cells": [
  {
   "cell_type": "markdown",
   "id": "96c12aac-ab69-4048-b5c4-2fb78d7a858d",
   "metadata": {},
   "source": [
    "# Print Function"
   ]
  },
  {
   "cell_type": "code",
   "execution_count": 1,
   "id": "eb9ca3ec-951b-4736-b4bb-32c9c3606c9f",
   "metadata": {},
   "outputs": [
    {
     "name": "stdout",
     "output_type": "stream",
     "text": [
      "Hello World!\n"
     ]
    }
   ],
   "source": [
    "print(\"Hello World!\")"
   ]
  },
  {
   "cell_type": "markdown",
   "id": "76439d48-f82d-4a53-bed9-2cbe70db2fc8",
   "metadata": {},
   "source": [
    "# Comment"
   ]
  },
  {
   "cell_type": "code",
   "execution_count": 2,
   "id": "96f903e8-8187-4ca5-893b-b3a1144b1839",
   "metadata": {},
   "outputs": [],
   "source": [
    "# print(\"Hello World!\")"
   ]
  },
  {
   "cell_type": "markdown",
   "id": "45d41a9d-747c-4a36-9028-d08499a127ef",
   "metadata": {},
   "source": [
    "# Data Type\n",
    "資料型態，有以下幾種\n",
    ">1.數值Numbers<br>\n",
    ">2.字串String<br>\n",
    ">3.布林與邏輯判斷<br>\n",
    ">4.串列List-（有序，但資料可隨時改變）<br>\n",
    ">5.元組Tuple- （有序且資料不能改變）<br>\n",
    ">6.字典Dictionary- （資料是無序的key value集合，資料是有結構化的）<br>\n",
    ">7.集合Set-（無序不重覆的資料）"
   ]
  },
  {
   "cell_type": "code",
   "execution_count": 3,
   "id": "c39b064f-5911-41af-8e77-b4094f11abb1",
   "metadata": {},
   "outputs": [
    {
     "name": "stdout",
     "output_type": "stream",
     "text": [
      "小明\n",
      "3\n",
      "<class 'str'>\n",
      "<class 'int'>\n"
     ]
    }
   ],
   "source": [
    "name = \"小明\"\n",
    "print(name)\n",
    "\n",
    "b = 1\n",
    "c = 2\n",
    "a = b+c\n",
    "print(a)\n",
    "print(type(name))\n",
    "print(type(a))"
   ]
  },
  {
   "cell_type": "code",
   "execution_count": 4,
   "id": "4532d8cb-c31b-4417-a74f-f086f91e6a79",
   "metadata": {},
   "outputs": [
    {
     "name": "stdout",
     "output_type": "stream",
     "text": [
      "<class 'int'>\n"
     ]
    }
   ],
   "source": [
    "print(type(10))"
   ]
  },
  {
   "cell_type": "code",
   "execution_count": 5,
   "id": "f688158e-25d0-47b0-b232-b3ea58fa2160",
   "metadata": {},
   "outputs": [
    {
     "name": "stdout",
     "output_type": "stream",
     "text": [
      "<class 'float'>\n"
     ]
    }
   ],
   "source": [
    "print(type(12.5))"
   ]
  },
  {
   "cell_type": "code",
   "execution_count": 6,
   "id": "a16620f4-237c-470f-91dd-5228bab43ebc",
   "metadata": {},
   "outputs": [
    {
     "name": "stdout",
     "output_type": "stream",
     "text": [
      "<class 'bool'>\n"
     ]
    }
   ],
   "source": [
    "print(type(True))"
   ]
  },
  {
   "cell_type": "markdown",
   "id": "4452ee3a-aba0-4a81-bb4b-43d8f8673f9b",
   "metadata": {},
   "source": [
    "# Numbers"
   ]
  },
  {
   "cell_type": "code",
   "execution_count": 7,
   "id": "722d2b3d-b69c-4828-a388-0c6c05175343",
   "metadata": {},
   "outputs": [
    {
     "name": "stdout",
     "output_type": "stream",
     "text": [
      "123\n"
     ]
    }
   ],
   "source": [
    "num=\"123\"\n",
    "print(int(num))"
   ]
  },
  {
   "cell_type": "code",
   "execution_count": 8,
   "id": "868fe2c3-3060-431e-bbed-3e624ca77280",
   "metadata": {},
   "outputs": [
    {
     "name": "stdout",
     "output_type": "stream",
     "text": [
      "456\n"
     ]
    }
   ],
   "source": [
    "num2 = 456\n",
    "print(str(num2))"
   ]
  },
  {
   "cell_type": "code",
   "execution_count": 9,
   "id": "7eadbbe4-46bc-480d-baf3-6007af45c0c5",
   "metadata": {},
   "outputs": [
    {
     "ename": "TypeError",
     "evalue": "unsupported operand type(s) for +: 'int' and 'str'",
     "output_type": "error",
     "traceback": [
      "\u001b[31m---------------------------------------------------------------------------\u001b[39m",
      "\u001b[31mTypeError\u001b[39m                                 Traceback (most recent call last)",
      "\u001b[36mCell\u001b[39m\u001b[36m \u001b[39m\u001b[32mIn[9]\u001b[39m\u001b[32m, line 3\u001b[39m\n\u001b[32m      1\u001b[39m num = \u001b[32m3\u001b[39m\n\u001b[32m      2\u001b[39m num2 = \u001b[33m\"\u001b[39m\u001b[33m4\u001b[39m\u001b[33m\"\u001b[39m\n\u001b[32m----> \u001b[39m\u001b[32m3\u001b[39m \u001b[38;5;28mprint\u001b[39m(\u001b[43mnum\u001b[49m\u001b[43m \u001b[49m\u001b[43m+\u001b[49m\u001b[43m \u001b[49m\u001b[43mnum2\u001b[49m)\n",
      "\u001b[31mTypeError\u001b[39m: unsupported operand type(s) for +: 'int' and 'str'"
     ]
    }
   ],
   "source": [
    "num = 3\n",
    "num2 = \"4\"\n",
    "print(num + num2)"
   ]
  },
  {
   "cell_type": "markdown",
   "id": "34ed503a-93ee-4084-b908-9b6224cbe2d7",
   "metadata": {},
   "source": [
    "# String"
   ]
  },
  {
   "cell_type": "code",
   "execution_count": 10,
   "id": "150228cb-e0bf-4afe-9dc3-e085d17f25aa",
   "metadata": {},
   "outputs": [
    {
     "name": "stdout",
     "output_type": "stream",
     "text": [
      "My name is Ray.\n"
     ]
    }
   ],
   "source": [
    "name = \"Ray\"\n",
    "print(f\"My name is {name}.\")"
   ]
  },
  {
   "cell_type": "code",
   "execution_count": 11,
   "id": "655eedb7-4790-4342-9216-540f63628989",
   "metadata": {},
   "outputs": [
    {
     "name": "stdout",
     "output_type": "stream",
     "text": [
      "我是 小明 , 年齡 10 , 我身上有 20.500000 的錢\n"
     ]
    }
   ],
   "source": [
    "name=\"小明\"\n",
    "age=10\n",
    "money=20.5\n",
    "message='我是 %s , 年齡 %d , 我身上有 %f 的錢' % (name,age,money)\n",
    "print(message)"
   ]
  },
  {
   "cell_type": "markdown",
   "id": "5db5e4d6-0644-40be-b7ce-5752a49c712f",
   "metadata": {},
   "source": [
    ">如果字串內容為了使輸出畫面美觀必須跨越數行，可使用連續三個'單引號或\"雙引號："
   ]
  },
  {
   "cell_type": "markdown",
   "id": "46d8e12a-9852-456c-b6ca-0263654e8371",
   "metadata": {},
   "source": [
    "# Boolean"
   ]
  },
  {
   "cell_type": "code",
   "execution_count": 12,
   "id": "93541c1a-68e3-4b0b-b10a-0aebbdfc9de6",
   "metadata": {},
   "outputs": [
    {
     "name": "stdout",
     "output_type": "stream",
     "text": [
      "False\n"
     ]
    }
   ],
   "source": [
    "a = 15<10 and 15<7\n",
    "print(a)"
   ]
  },
  {
   "cell_type": "code",
   "execution_count": 13,
   "id": "eb070e9a-6f08-4cc7-89c7-c67a79b0a130",
   "metadata": {},
   "outputs": [
    {
     "name": "stdout",
     "output_type": "stream",
     "text": [
      "True\n",
      "False\n"
     ]
    }
   ],
   "source": [
    "name = True\n",
    "age = False\n",
    "print(name)\n",
    "print(age)"
   ]
  },
  {
   "cell_type": "markdown",
   "id": "bdb42885-9f7f-489e-a5b7-8ac820060c29",
   "metadata": {},
   "source": [
    "# List"
   ]
  },
  {
   "cell_type": "code",
   "execution_count": 14,
   "id": "3c200b43-a1c8-47ce-9813-99c72b1617ce",
   "metadata": {},
   "outputs": [
    {
     "name": "stdout",
     "output_type": "stream",
     "text": [
      "[1, 2.2, 'python', ['hello', 20]]\n",
      "3\n",
      "國立清華大學\n",
      "['國立政治大學', '國立清華大學', '國立臺灣大學', '國立臺灣師範大學', '國立成功大學', '國立中興大學', '國立陽明交通大學', '國立中央大學', '國立中山大學', '國立中正大學', '國立高雄師範大學', '國立彰化師範大學', '國立嘉義大學', '國立高雄大學', '國立東華大學', '國立臺東大學', '國立臺南大學', '國立屏東大學', '東海大學', '輔仁大學', '東吳大學', '中原大學', '淡江大學', '逢甲大學', '臺北市立大學']\n"
     ]
    }
   ],
   "source": [
    "a = [1, 2.2, 'python',[\"hello\",20]] #資料類型可以不同，但索引位置是從0開始, 萬用變數\n",
    "# 具有索引。長度可變動。\n",
    "print(a)\n",
    "print(a.index([\"hello\",20])) #看索引位置是多少\n",
    "\n",
    "#先列出全台有數學系的大學，再用迴圈找出那些國立大學有數學系\n",
    "school = ['國立清華大學','國立臺灣大學','國立臺灣師範大學','國立成功大學','國立中興大學','國立陽明交通大學','國立中央大學','國立中山大學','國立中正大學','國立高雄師範大學','國立彰化師範大學','國立嘉義大學','國立高雄大學','國立東華大學','國立臺東大學','國立臺南大學','國立屏東大學','東海大學','輔仁大學','東吳大學','中原大學','淡江大學','逢甲大學']\n",
    "print(school[0])\n",
    "\n",
    "school.insert(0,'國立政治大學')\n",
    "school.append('臺北市立大學')\n",
    "print(school)\n",
    "\n",
    "#那些學校有那些數學系,那些學校數學系已滅亡\n",
    "#school.pop(3) #刪除第三元素\n",
    "#print(school)"
   ]
  },
  {
   "cell_type": "code",
   "execution_count": 15,
   "id": "abb8c6c7-2c82-4272-ac26-90328d1860e9",
   "metadata": {},
   "outputs": [
    {
     "name": "stdout",
     "output_type": "stream",
     "text": [
      "[1, 2.2, 'python', ['hello', 20]]\n",
      "3\n",
      "國立清華大學\n",
      "['國立政治大學', '國立清華大學', '國立臺灣大學', '國立臺灣師範大學', '國立成功大學', '國立中興大學', '國立陽明交通大學', '國立中央大學', '國立中山大學', '國立中正大學', '國立高雄師範大學', '國立彰化師範大學', '國立嘉義大學', '國立高雄大學', '國立東華大學', '國立臺東大學', '國立臺南大學', '國立屏東大學', '東海大學', '輔仁大學', '東吳大學', '中原大學', '淡江大學', '逢甲大學', '臺北市立大學']\n",
      "['國立政治大學', '國立清華大學', '國立臺灣大學', '國立成功大學', '國立中興大學', '國立陽明交通大學', '國立中央大學', '國立中山大學', '國立中正大學', '國立高雄師範大學', '國立彰化師範大學', '國立嘉義大學', '國立高雄大學', '國立東華大學', '國立臺東大學', '國立臺南大學', '國立屏東大學', '東海大學', '輔仁大學', '東吳大學', '中原大學', '淡江大學', '逢甲大學', '臺北市立大學']\n"
     ]
    }
   ],
   "source": [
    "a = [1, 2.2, 'python',[\"hello\",20]] #資料類型可以不同，但索引位置是從0開始, 萬用變數\n",
    "# 具有索引。長度可變動。\n",
    "print(a)\n",
    "print(a.index([\"hello\",20])) #看索引位置是多少\n",
    "\n",
    "#先列出全台有數學系的大學，再用迴圈找出那些國立大學有數學系\n",
    "school = ['國立清華大學','國立臺灣大學','國立臺灣師範大學','國立成功大學','國立中興大學','國立陽明交通大學','國立中央大學','國立中山大學','國立中正大學','國立高雄師範大學','國立彰化師範大學','國立嘉義大學','國立高雄大學','國立東華大學','國立臺東大學','國立臺南大學','國立屏東大學','東海大學','輔仁大學','東吳大學','中原大學','淡江大學','逢甲大學']\n",
    "print(school[0])\n",
    "\n",
    "school.insert(0,'國立政治大學')\n",
    "school.append('臺北市立大學')\n",
    "print(school)\n",
    "\n",
    "#那些學校有那些數學系,那些學校數學系已滅亡\n",
    "school.pop(3) #刪除第三元素\n",
    "print(school)"
   ]
  },
  {
   "cell_type": "markdown",
   "id": "73efaf6c-0f91-4088-ba54-9b2eb8b75f7f",
   "metadata": {},
   "source": [
    "# Tuple"
   ]
  },
  {
   "cell_type": "code",
   "execution_count": 16,
   "id": "801675a7-7cb3-4792-a348-e80c98fb5fa7",
   "metadata": {},
   "outputs": [
    {
     "name": "stdout",
     "output_type": "stream",
     "text": [
      "t[1] =  program\n",
      "t[0:2] =  (5, 'program')\n"
     ]
    }
   ],
   "source": [
    "t = (5,'program', 1+3j) #  t[0] = 5 ,t[1] = 'program'\n",
    "\n",
    "print(\"t[1] = \", t[1])\n",
    "\n",
    "print(\"t[0:2] = \", t[0:2])"
   ]
  },
  {
   "cell_type": "markdown",
   "id": "63c59dc1-361c-41e5-a08c-cd746503068f",
   "metadata": {},
   "source": [
    "# Dictionary"
   ]
  },
  {
   "cell_type": "code",
   "execution_count": 17,
   "id": "db619114-1343-4bb4-9bb8-f31e03bbc337",
   "metadata": {},
   "outputs": [
    {
     "name": "stdout",
     "output_type": "stream",
     "text": [
      "{'新北市': 4047095, '台中市': 2863285, '高雄市': 2729670, '台北市': 2480881, '桃園市': 2341566, '台南市': 1858302}\n",
      "4047095\n",
      "2729670\n",
      "新北市\n",
      "4047095\n"
     ]
    }
   ],
   "source": [
    "dict = {'新北市': 4047095, '台中市':2863285, '高雄市': 2729670, '台北市': 2480881, '桃園市':2341566, '台南市':1858302}\n",
    "print(dict)\n",
    "print(dict['新北市'])\n",
    "print(dict['高雄市'])\n",
    "max_key = max(dict, key=dict.get)\n",
    "print(max_key)\n",
    "print(dict[max_key]) #取出人口最多的key value"
   ]
  },
  {
   "cell_type": "markdown",
   "id": "97637c77-cfb1-4b38-b4cb-2d327e258b16",
   "metadata": {},
   "source": [
    "# for 迴圈"
   ]
  },
  {
   "cell_type": "code",
   "execution_count": 18,
   "id": "7822101b-02d6-46d5-86fd-3acb7ef32119",
   "metadata": {},
   "outputs": [
    {
     "name": "stdout",
     "output_type": "stream",
     "text": [
      "1\n",
      "2\n",
      "3\n",
      "4\n",
      "5\n",
      "6\n"
     ]
    }
   ],
   "source": [
    "name=\"123456\"\n",
    "for x in name:\n",
    "    print(x)"
   ]
  },
  {
   "cell_type": "code",
   "execution_count": 19,
   "id": "4166ecf6-18c1-4188-805b-eb8ec7f21999",
   "metadata": {},
   "outputs": [
    {
     "name": "stdout",
     "output_type": "stream",
     "text": [
      "目前num是 0\n",
      "0\n",
      "目前num是 1\n",
      "1\n",
      "目前num是 2\n",
      "目前判斷已經遇到2,要中斷程式執行\n"
     ]
    }
   ],
   "source": [
    "for num in range(5):\n",
    "    print(\"目前num是\",num)\n",
    "    if (num ==2):\n",
    "        print(\"目前判斷已經遇到2,要中斷程式執行\")\n",
    "        break\n",
    "    print(num)"
   ]
  },
  {
   "cell_type": "code",
   "execution_count": 20,
   "id": "3cd790f3-9bce-40e1-84a3-19b5910bd95e",
   "metadata": {},
   "outputs": [
    {
     "name": "stdout",
     "output_type": "stream",
     "text": [
      "1\n",
      "2\n",
      "3\n",
      "4\n"
     ]
    }
   ],
   "source": [
    "name=\"123456\"\n",
    "for x in name:\n",
    "    if x=='5':\n",
    "        break\n",
    "    print(x)"
   ]
  },
  {
   "cell_type": "markdown",
   "id": "7aa4e2c5-8fd4-4e9c-bdfe-9536e22adce1",
   "metadata": {},
   "source": [
    "# while 迴圈"
   ]
  },
  {
   "cell_type": "code",
   "execution_count": 21,
   "id": "6f21e4f9-9f92-4b2f-9c75-47155b3e145d",
   "metadata": {},
   "outputs": [
    {
     "name": "stdout",
     "output_type": "stream",
     "text": [
      "hello\n",
      "我已經跑了第1次\n",
      "hello\n",
      "我已經跑了第2次\n",
      "hello\n",
      "我已經跑了第3次\n",
      "hello\n",
      "我已經跑了第4次\n",
      "hello\n",
      "我已經跑了第5次\n",
      "hello\n",
      "我已經跑了第6次\n",
      "hello\n",
      "我已經跑了第7次\n",
      "hello\n",
      "我已經跑了第8次\n",
      "hello\n",
      "我已經跑了第9次\n",
      "hello\n",
      "我已經跑了第10次\n"
     ]
    }
   ],
   "source": [
    "i=0\n",
    "while i <10:\n",
    "    print(\"hello\")\n",
    "    i= i+1 #如果不利用i來設定終止條件，會造成無限循環\n",
    "    print('我已經跑了第%d次' %(i))"
   ]
  },
  {
   "cell_type": "markdown",
   "id": "8c713f6e-9bcc-4f8a-bbb7-473308ff7249",
   "metadata": {},
   "source": [
    "# if 判斷式"
   ]
  },
  {
   "cell_type": "code",
   "execution_count": 22,
   "id": "010216b6-80bd-463b-bfaa-abdb93b6152c",
   "metadata": {},
   "outputs": [
    {
     "name": "stdout",
     "output_type": "stream",
     "text": [
      "24\n",
      "國立政治大學\n",
      "國立清華大學\n",
      "國立臺灣大學\n",
      "國立成功大學\n",
      "國立中興大學\n",
      "國立陽明交通大學\n",
      "國立中央大學\n",
      "國立中山大學\n",
      "國立中正大學\n",
      "國立高雄師範大學\n",
      "國立彰化師範大學\n",
      "國立嘉義大學\n",
      "國立高雄大學\n",
      "國立東華大學\n",
      "國立臺東大學\n",
      "國立臺南大學\n",
      "國立屏東大學\n"
     ]
    }
   ],
   "source": [
    "print(len(school))\n",
    "for i in school:\n",
    "     if(i[0:2]) == '國立' :\n",
    "        print(i)"
   ]
  },
  {
   "cell_type": "code",
   "execution_count": 23,
   "id": "e7be8bab-ff92-4a84-ad39-118644bdfb2e",
   "metadata": {},
   "outputs": [
    {
     "name": "stdout",
     "output_type": "stream",
     "text": [
      "國立政治大學\n",
      "國立清華大學\n",
      "國立臺灣大學\n",
      "國立成功大學\n",
      "國立中興大學\n",
      "國立陽明交通大學\n",
      "國立中央大學\n",
      "國立中山大學\n",
      "國立中正大學\n",
      "國立高雄師範大學\n",
      "國立彰化師範大學\n",
      "國立嘉義大學\n",
      "國立高雄大學\n",
      "國立東華大學\n",
      "國立臺東大學\n",
      "國立臺南大學\n",
      "國立屏東大學\n",
      "索引位置 17 私立學校刪除\n",
      "索引位置 18 私立學校刪除\n",
      "索引位置 19 私立學校刪除\n",
      "索引位置 20 私立學校刪除\n"
     ]
    }
   ],
   "source": [
    "index=0\n",
    "while index < len(school):\n",
    "    num=school[index]\n",
    "    if num[0:2] != '國立' :\n",
    "        print('索引位置',index,'私立學校刪除')\n",
    "        school.pop(index) #刪除\n",
    "    else:\n",
    "        print(num)\n",
    "    index=index+1"
   ]
  },
  {
   "cell_type": "markdown",
   "id": "9605fa54-48b6-4d10-9e51-fc7a56cc1390",
   "metadata": {},
   "source": [
    "# method & function 函數"
   ]
  },
  {
   "cell_type": "code",
   "execution_count": 24,
   "id": "e5554118-f9fa-4948-b309-630f6c30c9de",
   "metadata": {},
   "outputs": [
    {
     "name": "stdout",
     "output_type": "stream",
     "text": [
      "hello world\n"
     ]
    }
   ],
   "source": [
    "def say():  #定義say函數\n",
    "    print(\"hello world\") #此行為函數內容\n",
    "say() #呼叫函數名稱"
   ]
  },
  {
   "cell_type": "code",
   "execution_count": 25,
   "id": "3af76b9f-9e07-428f-a9b5-83fc260e970c",
   "metadata": {},
   "outputs": [
    {
     "name": "stdout",
     "output_type": "stream",
     "text": [
      "3\n"
     ]
    }
   ],
   "source": [
    "def add(x,y): #定義add函數\n",
    "    z = x+y\n",
    "    print(z)\n",
    "add(1,2) #呼叫add函數"
   ]
  },
  {
   "cell_type": "code",
   "execution_count": 26,
   "id": "4a411e12-80cf-4d1d-9d5c-44269fa83074",
   "metadata": {},
   "outputs": [
    {
     "name": "stdout",
     "output_type": "stream",
     "text": [
      "3\n"
     ]
    }
   ],
   "source": [
    "def add(x,y): #定義add函數，傳入參數x,y\n",
    "    z = x+y\n",
    "    return z #傳回一個值\n",
    "result = add(1,2) #要反回一個值Z，實際上這個傳回的值就是x+y\n",
    "print (result)"
   ]
  },
  {
   "cell_type": "code",
   "execution_count": 27,
   "id": "d2c3411f-7750-417f-87dc-fad982d6f02b",
   "metadata": {},
   "outputs": [
    {
     "name": "stdout",
     "output_type": "stream",
     "text": [
      "你的名字是小明,年齡10,性別第三性\n"
     ]
    }
   ],
   "source": [
    "def user_inf(name, age, gender):\n",
    "    print(f\"你的名字是{name},年齡{age},性別{gender}\")\n",
    "user_inf('小明',10,gender='第三性')"
   ]
  },
  {
   "cell_type": "code",
   "execution_count": 28,
   "id": "391d5290-5ea2-4dc8-be58-85521242b3bf",
   "metadata": {},
   "outputs": [
    {
     "name": "stdout",
     "output_type": "stream",
     "text": [
      "('小明', 10, '男')\n"
     ]
    }
   ],
   "source": [
    "def user_inf(*args): #此*代表是形式參數，表示資料透過 tuple的方式接收參數\n",
    "    print(args)\n",
    "\n",
    "user_inf('小明',10,'男')"
   ]
  },
  {
   "cell_type": "markdown",
   "id": "acd577e3-fea2-4e7a-b74f-b918812d045a",
   "metadata": {},
   "source": [
    "# Class"
   ]
  },
  {
   "cell_type": "code",
   "execution_count": 29,
   "id": "442d5a7a-9413-41b1-b3ab-e47228a32aae",
   "metadata": {},
   "outputs": [
    {
     "name": "stdout",
     "output_type": "stream",
     "text": [
      "A 車行駛了  100 公里，剩餘油量： 0\n",
      "B 車行駛了 100 公里，剩餘油量： 20.0\n"
     ]
    }
   ],
   "source": [
    "class CarA:\n",
    "    def drive(self, distance):\n",
    "        fuel_needed = distance\n",
    "        remaining_fuel = 100 - fuel_needed\n",
    "        print(\"A 車行駛了 \",distance,\"公里，剩餘油量：\",remaining_fuel )\n",
    "\n",
    "class CarB:\n",
    "    def drive(self, distance):\n",
    "        fuel_needed = distance * 0.8 \n",
    "        remaining_fuel = 100 - fuel_needed\n",
    "        print (\"B 車行駛了\",distance ,\"公里，剩餘油量：\",remaining_fuel  )\n",
    "\n",
    "car_a = CarA()\n",
    "car_b = CarB()\n",
    "\n",
    "car_a.drive(100) \n",
    "\n",
    "car_b.drive(100)\n",
    "#A 車行駛了  100 公里，剩餘油量： 0\n",
    "#B 車行駛了 100 公里，剩餘油量： 20.0"
   ]
  },
  {
   "cell_type": "code",
   "execution_count": 30,
   "id": "9f5ebbfc-f236-4370-b05a-9e3e37d02584",
   "metadata": {},
   "outputs": [],
   "source": [
    "# import 模組"
   ]
  },
  {
   "cell_type": "code",
   "execution_count": 31,
   "id": "5bf0bd03-771c-45eb-8db4-04ea50f957b3",
   "metadata": {},
   "outputs": [
    {
     "name": "stdout",
     "output_type": "stream",
     "text": [
      "total 124\n",
      "drwxrwxrwx. 9 root  root   4096 Apr 21 11:38 .\n",
      "drwxr-xr-x. 1 root  root     33 Dec 28 13:46 ..\n",
      "drwxr-xr-x. 6 coder coder  4096 Apr 21 10:36 .cache\n",
      "drwxr-xr-x. 3 coder coder  4096 Apr 21 09:17 .config\n",
      "-rw-r--r--. 1 coder coder   118 Apr 21 11:22 custom_model.py\n",
      "-rw-------. 1 coder coder 65536 Apr 21 09:17 filebrowser.db\n",
      "drwxr-xr-x. 2 coder coder  4096 Apr 21 11:38 .ipynb_checkpoints\n",
      "drwxr-xr-x. 3 coder coder  4096 Apr 21 09:54 .ipython\n",
      "drwxr-xr-x. 3 coder coder  4096 Apr 21 09:54 .jupyter\n",
      "drwxr-xr-x. 5 coder coder  4096 Apr 21 09:17 .local\n",
      "-rw-r--r--. 1 coder coder  2984 Apr 21 11:29 note.ipynb\n",
      "drwxr-xr-x. 2 coder coder  4096 Apr 21 11:15 __pycache__\n",
      "-rw-r--r--. 1 coder coder 23751 Apr 21 11:38 python基礎.ipynb\n",
      "-rw-r--r--. 1 coder coder   103 Apr 21 11:24 spam.py\n",
      "-rw-r--r--. 1 coder coder   180 Apr 21 09:17 .wget-hsts\n",
      "def plus(a, b):\n",
      "    res1 = a + b\n",
      "    print(res1)\n",
      "\n",
      "def minus(x, y):\n",
      "    res2 = x - y\n",
      "    print(res2)\n",
      "\n",
      "print(\"你好~~\")"
     ]
    }
   ],
   "source": [
    "!ls -al\n",
    "!cat custom_model.py"
   ]
  },
  {
   "cell_type": "code",
   "execution_count": 32,
   "id": "202f5fe6-8cfd-4019-bbc1-6f854500f7ac",
   "metadata": {},
   "outputs": [
    {
     "name": "stdout",
     "output_type": "stream",
     "text": [
      "你好~~\n"
     ]
    }
   ],
   "source": [
    "%run custom_model.py"
   ]
  },
  {
   "cell_type": "code",
   "execution_count": 33,
   "id": "0dc90b54-5998-45c8-91ba-fafdef9690ac",
   "metadata": {},
   "outputs": [
    {
     "name": "stdout",
     "output_type": "stream",
     "text": [
      "你好~~\n",
      "32\n",
      "None\n",
      "5\n",
      "None\n"
     ]
    }
   ],
   "source": [
    "from custom_model import *\n",
    "\n",
    "print(minus(100, 68))\n",
    "print(plus(2, 3))"
   ]
  },
  {
   "cell_type": "code",
   "execution_count": null,
   "id": "4b99fb83-79c0-4530-8b94-0aefae99a8ed",
   "metadata": {},
   "outputs": [],
   "source": []
  }
 ],
 "metadata": {
  "kernelspec": {
   "display_name": "Python 3 (ipykernel)",
   "language": "python",
   "name": "python3"
  },
  "language_info": {
   "codemirror_mode": {
    "name": "ipython",
    "version": 3
   },
   "file_extension": ".py",
   "mimetype": "text/x-python",
   "name": "python",
   "nbconvert_exporter": "python",
   "pygments_lexer": "ipython3",
   "version": "3.12.3"
  }
 },
 "nbformat": 4,
 "nbformat_minor": 5
}
