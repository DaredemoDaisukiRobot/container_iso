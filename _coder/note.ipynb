{
 "cells": [
  {
   "cell_type": "code",
   "execution_count": 1,
   "id": "161b7bec-c152-47c9-9b62-20886bef7588",
   "metadata": {},
   "outputs": [],
   "source": [
    "# 在 ipython kernel 上運行"
   ]
  },
  {
   "cell_type": "code",
   "execution_count": null,
   "id": "24ec4284-f5c8-48f2-aa68-c08bb5e2a79a",
   "metadata": {},
   "outputs": [],
   "source": [
    "%save spam.py 1-3 7 9"
   ]
  },
  {
   "cell_type": "code",
   "execution_count": null,
   "id": "5da644c7-cd4c-43c0-af94-24803bfd4b1b",
   "metadata": {},
   "outputs": [],
   "source": [
    "%pip install numpy"
   ]
  },
  {
   "cell_type": "code",
   "execution_count": null,
   "id": "7d537fb9-1803-4712-8089-0fc134a5d950",
   "metadata": {},
   "outputs": [],
   "source": [
    "# 在本機 shell 上運行"
   ]
  },
  {
   "cell_type": "code",
   "execution_count": null,
   "id": "3993ae96-a3bf-4d1b-8d57-3a72a9313a43",
   "metadata": {},
   "outputs": [],
   "source": [
    "!pwd"
   ]
  },
  {
   "cell_type": "code",
   "execution_count": null,
   "id": "7768de40-e46b-4988-b240-91e3f0d3de2e",
   "metadata": {},
   "outputs": [],
   "source": [
    "!cd practice\n",
    "!ls -l"
   ]
  },
  {
   "cell_type": "code",
   "execution_count": null,
   "id": "4dc3cc8b-8285-443e-8b17-0af3d243f77e",
   "metadata": {},
   "outputs": [],
   "source": [
    "!mkdir test\n",
    "!ls"
   ]
  },
  {
   "cell_type": "code",
   "execution_count": null,
   "id": "d854cc12-c63b-4fa4-a957-524eb030752e",
   "metadata": {},
   "outputs": [],
   "source": [
    "!rm -r test\n",
    "!ls"
   ]
  },
  {
   "cell_type": "code",
   "execution_count": null,
   "id": "1dafaf86-eecc-4583-8125-af55657dccf4",
   "metadata": {},
   "outputs": [],
   "source": [
    "!cat custom_model.py"
   ]
  },
  {
   "cell_type": "markdown",
   "id": "324f2ee3-10e9-4d9b-ae8b-9ed4291041a0",
   "metadata": {},
   "source": [
    "# Markdown"
   ]
  },
  {
   "cell_type": "markdown",
   "id": "1e14990c-9600-4733-b0aa-053af3b57e3c",
   "metadata": {},
   "source": [
    "- 項目1\n",
    "- 項目2"
   ]
  },
  {
   "cell_type": "markdown",
   "id": "1db80108-4f1d-4f8d-95b9-f5029bae6db3",
   "metadata": {},
   "source": [
    "1. 項目1\n",
    "2. 項目2"
   ]
  },
  {
   "cell_type": "markdown",
   "id": "d934c304-90df-4e55-99a4-43c3c82b63d9",
   "metadata": {},
   "source": [
    "$$f(x)=x^2$$"
   ]
  },
  {
   "cell_type": "code",
   "execution_count": null,
   "id": "2334e804-c0bd-4520-9747-b13c3aa1a670",
   "metadata": {},
   "outputs": [],
   "source": []
  }
 ],
 "metadata": {
  "kernelspec": {
   "display_name": "Python 3 (ipykernel)",
   "language": "python",
   "name": "python3"
  },
  "language_info": {
   "codemirror_mode": {
    "name": "ipython",
    "version": 3
   },
   "file_extension": ".py",
   "mimetype": "text/x-python",
   "name": "python",
   "nbconvert_exporter": "python",
   "pygments_lexer": "ipython3",
   "version": "3.12.3"
  }
 },
 "nbformat": 4,
 "nbformat_minor": 5
}
